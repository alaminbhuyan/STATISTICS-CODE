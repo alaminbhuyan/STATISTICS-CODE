{
 "cells": [
  {
   "cell_type": "markdown",
   "id": "23d5a99d-5a3e-4128-9390-d1a8a07277f7",
   "metadata": {},
   "source": [
    "## Descriptive statistics\n",
    "\n",
    "Measure Of Central Tendency\n",
    "\n",
    "1) Mean\n",
    "2) Median\n",
    "3) Mode"
   ]
  },
  {
   "cell_type": "code",
   "execution_count": 1,
   "id": "628c489e-39a0-4d92-91e5-dd3fde40ef19",
   "metadata": {},
   "outputs": [],
   "source": [
    "import numpy as np\n",
    "import pandas as pd\n",
    "import seaborn as sns\n",
    "import matplotlib.pyplot as plt\n",
    "import statistics\n",
    "from scipy import stats\n",
    "import pylab\n",
    "import math"
   ]
  },
  {
   "cell_type": "code",
   "execution_count": 2,
   "id": "51a73666-d63e-4d3a-9bcc-6337339fc0e7",
   "metadata": {},
   "outputs": [],
   "source": [
    "ages = [23,24,32,45,12,43,67,45,32,56,32,120]"
   ]
  },
  {
   "cell_type": "markdown",
   "id": "a1310b69-06b3-4baa-934e-d2eeda5f26e5",
   "metadata": {},
   "source": [
    "### mean"
   ]
  },
  {
   "cell_type": "code",
   "execution_count": 3,
   "id": "cdc3ec33-409b-42d5-b03e-8ec1f77b8d75",
   "metadata": {},
   "outputs": [
    {
     "name": "stdout",
     "output_type": "stream",
     "text": [
      "44.25\n",
      "44.25\n"
     ]
    }
   ],
   "source": [
    "# Outlier impect on mean but not empect much on median\n",
    "\n",
    "print(np.mean(ages))\n",
    "print(statistics.mean(ages))"
   ]
  },
  {
   "cell_type": "markdown",
   "id": "5f4e206c-ef4f-43af-8fbd-93d40cca5752",
   "metadata": {},
   "source": [
    "### median"
   ]
  },
  {
   "cell_type": "code",
   "execution_count": 4,
   "id": "41b9734d-2ad3-4e9a-b9bc-d72db45fae52",
   "metadata": {},
   "outputs": [
    {
     "name": "stdout",
     "output_type": "stream",
     "text": [
      "37.5\n",
      "37.5\n"
     ]
    }
   ],
   "source": [
    "print(np.median(ages))\n",
    "print(statistics.median(ages))"
   ]
  },
  {
   "cell_type": "markdown",
   "id": "db1ee0ea-9ffb-41d2-a72c-0fb083b8ef02",
   "metadata": {},
   "source": [
    "### mode"
   ]
  },
  {
   "cell_type": "code",
   "execution_count": 5,
   "id": "5b05a40c-a8de-49d9-9ace-99395decb0be",
   "metadata": {},
   "outputs": [
    {
     "data": {
      "text/plain": [
       "32"
      ]
     },
     "execution_count": 5,
     "metadata": {},
     "output_type": "execute_result"
    }
   ],
   "source": [
    "statistics.mode(ages)"
   ]
  },
  {
   "cell_type": "markdown",
   "id": "0b41d148-d3e6-4e16-bfda-d7dfbf4d2a96",
   "metadata": {},
   "source": [
    "### Find out the outlier using boxplot"
   ]
  },
  {
   "cell_type": "code",
   "execution_count": 6,
   "id": "cd4af3b2-aced-48b1-b312-aa2bc1580bb8",
   "metadata": {},
   "outputs": [
    {
     "data": {
      "image/png": "[encoded data removed]",
      "text/plain": [
       "<Figure size 432x288 with 1 Axes>"
      ]
     },
     "metadata": {
      "needs_background": "light"
     },
     "output_type": "display_data"
    }
   ],
   "source": [
    "sns.boxplot(data=ages, orient='h')\n",
    "plt.show()"
   ]
  },
  {
   "cell_type": "markdown",
   "id": "36aba0cf-a6e4-43ab-bc8f-701f9bc569ef",
   "metadata": {},
   "source": [
    "### 5 number summary"
   ]
  },
  {
   "cell_type": "code",
   "execution_count": 7,
   "id": "2d69ad85-c307-4662-930f-b48bdf4f24eb",
   "metadata": {},
   "outputs": [],
   "source": [
    "q1, q3 = np.percentile(a=ages, q=[25, 75])"
   ]
  },
  {
   "cell_type": "code",
   "execution_count": 8,
   "id": "455a7f85-d8d4-40fc-8897-b91fc5abcdfd",
   "metadata": {},
   "outputs": [
    {
     "data": {
      "text/plain": [
       "(30.0, 47.75)"
      ]
     },
     "execution_count": 8,
     "metadata": {},
     "output_type": "execute_result"
    }
   ],
   "source": [
    "q1, q3"
   ]
  },
  {
   "cell_type": "code",
   "execution_count": 9,
   "id": "87a71b01-33c0-43e2-8571-bd01a9e8298a",
   "metadata": {},
   "outputs": [
    {
     "name": "stdout",
     "output_type": "stream",
     "text": [
      "3.375\n",
      "74.375\n"
     ]
    }
   ],
   "source": [
    "# Interquartile range\n",
    "\n",
    "IQR = q3 - q1\n",
    "\n",
    "lower_range = q1 - 1.5 * IQR\n",
    "\n",
    "higher_range = q3 + 1.5 * IQR\n",
    "\n",
    "print(lower_range)\n",
    "print(higher_range)"
   ]
  },
  {
   "cell_type": "markdown",
   "id": "829a4322-b4f5-4ecc-9e92-f665ffd37475",
   "metadata": {},
   "source": [
    "### Measure Of Dispersion\n",
    "\n",
    "1) Variance\n",
    "\n",
    "2) Standard Deviation"
   ]
  },
  {
   "cell_type": "code",
   "execution_count": 10,
   "id": "1f8dbd8e-3c16-4319-a6b4-7a285e2fef1f",
   "metadata": {},
   "outputs": [],
   "source": [
    "# Variance for sample\n",
    "\n",
    "def sample_variance(data):\n",
    "    n = len(ages)\n",
    "    # mean of the data\n",
    "    mean_of_data = sum(data)/n\n",
    "    # variance\n",
    "    deviation = [(x - mean_of_data) ** 2 for x in data]\n",
    "    result = sum(deviation)/(n-1)\n",
    "    return result"
   ]
  },
  {
   "cell_type": "code",
   "execution_count": 11,
   "id": "93f05b3d-ea07-4018-ac28-bac76ffe754b",
   "metadata": {},
   "outputs": [
    {
     "data": {
      "text/plain": [
       "795.2954545454545"
      ]
     },
     "execution_count": 11,
     "metadata": {},
     "output_type": "execute_result"
    }
   ],
   "source": [
    "sample_variance(data=ages)"
   ]
  },
  {
   "cell_type": "code",
   "execution_count": 12,
   "id": "8576a613-174f-417e-b3c1-f4d6b29379aa",
   "metadata": {},
   "outputs": [
    {
     "data": {
      "text/plain": [
       "795.2954545454545"
      ]
     },
     "execution_count": 12,
     "metadata": {},
     "output_type": "execute_result"
    }
   ],
   "source": [
    "# For sample\n",
    "\n",
    "statistics.variance(data=ages)"
   ]
  },
  {
   "cell_type": "code",
   "execution_count": 13,
   "id": "faef5db8-5ab4-4536-a04f-f436fee83733",
   "metadata": {},
   "outputs": [],
   "source": [
    "# Variance for population\n",
    "\n",
    "def population_variance(data):\n",
    "    n = len(ages)\n",
    "    # mean of the data\n",
    "    mean_of_data = sum(data)/n\n",
    "    # variance\n",
    "    deviation = [(x - mean_of_data) ** 2 for x in data]\n",
    "    result = sum(deviation)/n\n",
    "    return result"
   ]
  },
  {
   "cell_type": "code",
   "execution_count": 14,
   "id": "8ebc735d-6a89-4624-bc10-faecc486c306",
   "metadata": {},
   "outputs": [
    {
     "data": {
      "text/plain": [
       "729.0208333333334"
      ]
     },
     "execution_count": 14,
     "metadata": {},
     "output_type": "execute_result"
    }
   ],
   "source": [
    "population_variance(data=ages)"
   ]
  },
  {
   "cell_type": "code",
   "execution_count": 15,
   "id": "4ea255fc-c25c-4acd-8f79-b397796b7b85",
   "metadata": {},
   "outputs": [
    {
     "data": {
      "text/plain": [
       "729.0208333333334"
      ]
     },
     "execution_count": 15,
     "metadata": {},
     "output_type": "execute_result"
    }
   ],
   "source": [
    "# population variance\n",
    "\n",
    "np.var(ages, axis=0)"
   ]
  },
  {
   "cell_type": "code",
   "execution_count": 16,
   "id": "66ded94b-8d6e-406a-8133-86a12b74c1a2",
   "metadata": {},
   "outputs": [],
   "source": [
    "# Variance for population and sample both\n",
    "\n",
    "def variance(data, dof=0):\n",
    "    n = len(ages)\n",
    "    # mean of the data\n",
    "    mean_of_data = sum(data)/n\n",
    "    # variance\n",
    "    deviation = [(x - mean_of_data) ** 2 for x in data]\n",
    "    result = sum(deviation)/(n-dof)\n",
    "    return result"
   ]
  },
  {
   "cell_type": "code",
   "execution_count": 17,
   "id": "226d9eea-ab1a-4586-9370-c337110fd4d3",
   "metadata": {},
   "outputs": [
    {
     "data": {
      "text/plain": [
       "729.0208333333334"
      ]
     },
     "execution_count": 17,
     "metadata": {},
     "output_type": "execute_result"
    }
   ],
   "source": [
    "# For population\n",
    "\n",
    "variance(data=ages)"
   ]
  },
  {
   "cell_type": "code",
   "execution_count": 18,
   "id": "270ab8e8-109b-441c-a8a3-3fc0dee5ec63",
   "metadata": {},
   "outputs": [
    {
     "data": {
      "text/plain": [
       "729.0208333333334"
      ]
     },
     "execution_count": 18,
     "metadata": {},
     "output_type": "execute_result"
    }
   ],
   "source": [
    "# For population\n",
    "\n",
    "statistics.pvariance(data=ages)"
   ]
  },
  {
   "cell_type": "code",
   "execution_count": 19,
   "id": "4f7b63e2-4cc1-49c1-a08a-454a994058d5",
   "metadata": {},
   "outputs": [
    {
     "data": {
      "text/plain": [
       "795.2954545454545"
      ]
     },
     "execution_count": 19,
     "metadata": {},
     "output_type": "execute_result"
    }
   ],
   "source": [
    "# For sample\n",
    "variance(data=ages, dof=1)"
   ]
  },
  {
   "cell_type": "code",
   "execution_count": 20,
   "id": "03174f7f-2cc6-454a-b9c9-9b6d66a4e715",
   "metadata": {},
   "outputs": [
    {
     "data": {
      "text/plain": [
       "27.000385799712813"
      ]
     },
     "execution_count": 20,
     "metadata": {},
     "output_type": "execute_result"
    }
   ],
   "source": [
    "# Standard Deviation\n",
    "# For population\n",
    "\n",
    "math.sqrt(statistics.pvariance(data=ages))"
   ]
  },
  {
   "cell_type": "code",
   "execution_count": 21,
   "id": "aa1ba41d-d760-4311-a1e3-30fd8af17977",
   "metadata": {},
   "outputs": [
    {
     "data": {
      "text/plain": [
       "28.2009832194811"
      ]
     },
     "execution_count": 21,
     "metadata": {},
     "output_type": "execute_result"
    }
   ],
   "source": [
    "# For sample\n",
    "\n",
    "math.sqrt(statistics.variance(data=ages))"
   ]
  },
  {
   "cell_type": "markdown",
   "id": "209ca334-b37c-4994-b439-d6c4fe31a1ad",
   "metadata": {},
   "source": [
    "### Histograms and PDF"
   ]
  },
  {
   "cell_type": "code",
   "execution_count": 22,
   "id": "0e53f1f4-aca3-45eb-98b2-d78bddea2e4e",
   "metadata": {},
   "outputs": [
    {
     "data": {
      "text/plain": [
       "<Figure size 432x432 with 0 Axes>"
      ]
     },
     "metadata": {},
     "output_type": "display_data"
    },
    {
     "data": {
      "image/png": "[encoded data removed]",
      "text/plain": [
       "<Figure size 360x360 with 1 Axes>"
      ]
     },
     "metadata": {
      "needs_background": "light"
     },
     "output_type": "display_data"
    }
   ],
   "source": [
    "plt.figure(figsize=(6,6))\n",
    "sns.displot(data=ages, kde=True)\n",
    "plt.show()"
   ]
  },
  {
   "cell_type": "code",
   "execution_count": 23,
   "id": "0ca43635-7e11-43d3-94b6-bc38e196546a",
   "metadata": {},
   "outputs": [
    {
     "data": {
      "text/html": [
       "<div>\n",
       "<style scoped>\n",
       "    .dataframe tbody tr th:only-of-type {\n",
       "        vertical-align: middle;\n",
       "    }\n",
       "\n",
       "    .dataframe tbody tr th {\n",
       "        vertical-align: top;\n",
       "    }\n",
       "\n",
       "    .dataframe thead th {\n",
       "        text-align: right;\n",
       "    }\n",
       "</style>\n",
       "<table border=\"1\" class=\"dataframe\">\n",
       "  <thead>\n",
       "    <tr style=\"text-align: right;\">\n",
       "      <th></th>\n",
       "      <th>sepal_length</th>\n",
       "      <th>sepal_width</th>\n",
       "      <th>petal_length</th>\n",
       "      <th>petal_width</th>\n",
       "      <th>species</th>\n",
       "    </tr>\n",
       "  </thead>\n",
       "  <tbody>\n",
       "    <tr>\n",
       "      <th>0</th>\n",
       "      <td>5.1</td>\n",
       "      <td>3.5</td>\n",
       "      <td>1.4</td>\n",
       "      <td>0.2</td>\n",
       "      <td>setosa</td>\n",
       "    </tr>\n",
       "    <tr>\n",
       "      <th>1</th>\n",
       "      <td>4.9</td>\n",
       "      <td>3.0</td>\n",
       "      <td>1.4</td>\n",
       "      <td>0.2</td>\n",
       "      <td>setosa</td>\n",
       "    </tr>\n",
       "    <tr>\n",
       "      <th>2</th>\n",
       "      <td>4.7</td>\n",
       "      <td>3.2</td>\n",
       "      <td>1.3</td>\n",
       "      <td>0.2</td>\n",
       "      <td>setosa</td>\n",
       "    </tr>\n",
       "    <tr>\n",
       "      <th>3</th>\n",
       "      <td>4.6</td>\n",
       "      <td>3.1</td>\n",
       "      <td>1.5</td>\n",
       "      <td>0.2</td>\n",
       "      <td>setosa</td>\n",
       "    </tr>\n",
       "    <tr>\n",
       "      <th>4</th>\n",
       "      <td>5.0</td>\n",
       "      <td>3.6</td>\n",
       "      <td>1.4</td>\n",
       "      <td>0.2</td>\n",
       "      <td>setosa</td>\n",
       "    </tr>\n",
       "  </tbody>\n",
       "</table>\n",
       "</div>"
      ],
      "text/plain": [
       "   sepal_length  sepal_width  petal_length  petal_width species\n",
       "0           5.1          3.5           1.4          0.2  setosa\n",
       "1           4.9          3.0           1.4          0.2  setosa\n",
       "2           4.7          3.2           1.3          0.2  setosa\n",
       "3           4.6          3.1           1.5          0.2  setosa\n",
       "4           5.0          3.6           1.4          0.2  setosa"
      ]
     },
     "execution_count": 23,
     "metadata": {},
     "output_type": "execute_result"
    }
   ],
   "source": [
    "df = sns.load_dataset(\"iris\")\n",
    "df.head()"
   ]
  },
  {
   "cell_type": "code",
   "execution_count": 24,
   "id": "c50b5401-983e-422a-967d-967fc8133f2e",
   "metadata": {},
   "outputs": [
    {
     "data": {
      "text/plain": [
       "<Figure size 432x432 with 0 Axes>"
      ]
     },
     "metadata": {},
     "output_type": "display_data"
    },
    {
     "data": {
      "image/png": "[encoded data removed]",
      "text/plain": [
       "<Figure size 360x360 with 1 Axes>"
      ]
     },
     "metadata": {
      "needs_background": "light"
     },
     "output_type": "display_data"
    }
   ],
   "source": [
    "plt.figure(figsize=(6,6))\n",
    "sns.displot(data=df, x=\"sepal_length\", kde=True)\n",
    "plt.show()"
   ]
  },
  {
   "cell_type": "code",
   "execution_count": 25,
   "id": "4cffc252-6cff-4ea8-ad2c-27b8dc5ec333",
   "metadata": {},
   "outputs": [
    {
     "data": {
      "text/plain": [
       "<Figure size 432x432 with 0 Axes>"
      ]
     },
     "metadata": {},
     "output_type": "display_data"
    },
    {
     "data": {
      "image/png": "[encoded data removed]",
      "text/plain": [
       "<Figure size 360x360 with 1 Axes>"
      ]
     },
     "metadata": {
      "needs_background": "light"
     },
     "output_type": "display_data"
    }
   ],
   "source": [
    "plt.figure(figsize=(6,6))\n",
    "sns.displot(data=df, x=\"sepal_width\", kde=True)\n",
    "plt.show()"
   ]
  },
  {
   "cell_type": "code",
   "execution_count": 26,
   "id": "710135af-1b03-4211-a7f3-faa29b7c9825",
   "metadata": {},
   "outputs": [
    {
     "data": {
      "text/plain": [
       "<Figure size 432x432 with 0 Axes>"
      ]
     },
     "metadata": {},
     "output_type": "display_data"
    },
    {
     "data": {
      "image/png": "[encoded data removed]",
      "text/plain": [
       "<Figure size 360x360 with 1 Axes>"
      ]
     },
     "metadata": {
      "needs_background": "light"
     },
     "output_type": "display_data"
    }
   ],
   "source": [
    "plt.figure(figsize=(6,6))\n",
    "sns.displot(data=df, x=\"petal_length\", kde=True)\n",
    "plt.show()"
   ]
  },
  {
   "cell_type": "code",
   "execution_count": 27,
   "id": "d4a849a3-836e-4ffb-ac5b-c15200358fd1",
   "metadata": {},
   "outputs": [
    {
     "data": {
      "text/plain": [
       "<Figure size 432x432 with 0 Axes>"
      ]
     },
     "metadata": {},
     "output_type": "display_data"
    },
    {
     "data": {
      "image/png": "[encoded data removed]",
      "text/plain": [
       "<Figure size 360x360 with 1 Axes>"
      ]
     },
     "metadata": {
      "needs_background": "light"
     },
     "output_type": "display_data"
    }
   ],
   "source": [
    "plt.figure(figsize=(6,6))\n",
    "sns.displot(data=df, x=\"petal_width\", kde=True)\n",
    "plt.show()"
   ]
  },
  {
   "cell_type": "code",
   "execution_count": 28,
   "id": "d1d97593-2b3c-418d-a40b-93dda8c64df9",
   "metadata": {
    "scrolled": true,
    "tags": []
   },
   "outputs": [
    {
     "data": {
      "text/plain": [
       "array([ 3.49481970e-01,  8.44648081e-01,  3.93309154e-01,  5.43604132e-01,\n",
       "        2.54499993e-01,  5.70415886e-01,  5.49002268e-01,  3.39650171e-01,\n",
       "        3.04154652e-01,  6.96447790e-01,  7.35197858e-01,  1.01188762e+00,\n",
       "        4.46480682e-01,  6.75886564e-01,  1.97609592e-01,  6.52073066e-01,\n",
       "        7.43397991e-01,  3.25210590e-01,  7.41784395e-01,  9.33277352e-03,\n",
       "        7.86667835e-01,  8.20053814e-01,  7.91034242e-01,  4.67947352e-01,\n",
       "        5.87135700e-01,  7.69028255e-01,  3.44809263e-01,  6.18651378e-01,\n",
       "        4.59558355e-01,  4.07277868e-01,  5.33092163e-01,  5.31821257e-01,\n",
       "        7.61000438e-01,  4.84826519e-01,  3.80831980e-01,  1.67280054e-02,\n",
       "        8.43691175e-01,  4.79887930e-01,  2.83063855e-01,  3.50578904e-01,\n",
       "        7.34717783e-01,  2.69641144e-01,  5.37943249e-01,  4.45318002e-01,\n",
       "        4.40716109e-01,  2.44949865e-01,  6.02187899e-01,  5.13396657e-01,\n",
       "        3.71987529e-01,  4.80980087e-01,  4.09195143e-01,  4.18208665e-01,\n",
       "        4.04065123e-01,  1.95406511e-01,  8.25850471e-01,  2.51327778e-01,\n",
       "        5.36943980e-01,  4.44386332e-01,  6.58734853e-01,  5.32913393e-01,\n",
       "        1.66892617e-01,  4.72862471e-01,  3.73660110e-01,  1.64830242e-01,\n",
       "        4.99178251e-01,  8.18082371e-01,  2.89331839e-01,  9.34584049e-01,\n",
       "        7.14451668e-01,  6.15037780e-01,  3.35186439e-01,  4.02258631e-01,\n",
       "        5.40463096e-01,  3.12733213e-01,  5.62617196e-01,  9.15839100e-01,\n",
       "        9.58694942e-01,  6.97464313e-01,  4.17540928e-01,  6.94677093e-01,\n",
       "        3.91681427e-01,  4.37469748e-01,  6.66129688e-01,  1.95852407e-01,\n",
       "        5.03765752e-01,  7.17722170e-01,  3.34296157e-01,  3.54264196e-01,\n",
       "        5.21819514e-01,  7.96674803e-01,  5.39909240e-01,  3.95964037e-01,\n",
       "        5.00472141e-01,  6.32081994e-01,  4.28622357e-01,  2.91842181e-01,\n",
       "        9.49393884e-01,  4.97447116e-01,  4.77493697e-01,  8.06212367e-01,\n",
       "        1.60894842e-01,  6.09249069e-01,  5.74908133e-01,  6.57211928e-01,\n",
       "        2.89928036e-01,  4.77664982e-01,  6.18848501e-01,  5.07954497e-01,\n",
       "        7.90843363e-01,  1.24208274e+00,  3.19189341e-01,  5.84325865e-01,\n",
       "        6.10253103e-01,  6.36277410e-01,  4.09004938e-01, -8.29718383e-02,\n",
       "        4.19611398e-01,  3.23838002e-01,  2.82527669e-01,  7.37242212e-01,\n",
       "        5.95522212e-01,  4.31354368e-01,  2.26221273e-01,  7.53236327e-01,\n",
       "        2.85783468e-01,  6.36006701e-01,  4.03419567e-01,  5.10043169e-01,\n",
       "        9.10033413e-01,  6.35711254e-01,  3.46968480e-01,  7.54519013e-01,\n",
       "        4.72788375e-01,  3.41064670e-01,  4.08426868e-01,  3.13008208e-01,\n",
       "        2.18548236e-01,  9.05657019e-01,  5.48951023e-01,  7.09191448e-01,\n",
       "        5.78448024e-01,  3.19279554e-01,  8.70707263e-01,  5.71513298e-01,\n",
       "        4.93752242e-01,  2.48877386e-01,  3.15196656e-01,  6.50520328e-01,\n",
       "        6.65488914e-01,  5.56075073e-01,  2.68840218e-01,  7.04914011e-01,\n",
       "        6.49854660e-01,  2.57550503e-01,  1.31320950e-01,  4.87186662e-01,\n",
       "        8.71244705e-02,  7.31683578e-01,  8.54350965e-01,  3.17240502e-01,\n",
       "        6.58079650e-01,  3.31969556e-01,  3.60709649e-01,  7.70746617e-01,\n",
       "        6.31342329e-01,  3.47498899e-01,  6.84235674e-01,  5.91404063e-01,\n",
       "        4.20837807e-01,  5.90775862e-01,  2.42415374e-01,  3.11184836e-01,\n",
       "        9.54012867e-01,  5.39743046e-01,  6.13222622e-01,  5.01558188e-01,\n",
       "        7.34013237e-01,  1.05628513e+00,  5.93879161e-01,  3.23113688e-01,\n",
       "        7.94316226e-01,  1.10533032e-01,  4.03759547e-01,  5.14320131e-01,\n",
       "        5.90478092e-01,  5.25787802e-01,  4.07549493e-01,  7.50197464e-01,\n",
       "        4.06932733e-01,  4.17776672e-01,  3.74184195e-01,  3.23642939e-01,\n",
       "        6.14129146e-01,  5.19478259e-01,  7.93332577e-01,  1.00417877e+00,\n",
       "        7.26537684e-01,  8.31216776e-01,  1.07453482e+00,  1.75886980e-01,\n",
       "        4.32812573e-01,  5.28578985e-01,  6.88594005e-01,  6.19545810e-01,\n",
       "        9.85062493e-01,  7.76762269e-01,  5.58758559e-01,  5.34318139e-01,\n",
       "        4.38889977e-01,  2.89896738e-01,  8.27336139e-01,  6.77212407e-01,\n",
       "        2.66808309e-01,  4.36796409e-01,  2.73768331e-01,  4.90166949e-01,\n",
       "        9.35748131e-01,  3.81467946e-01,  5.67997468e-01,  1.12006396e+00,\n",
       "        4.52804627e-01,  5.28181489e-01,  1.38900327e-01,  5.18886217e-01,\n",
       "        6.12615631e-01,  1.04395946e+00,  2.01673184e-01,  3.95953925e-01,\n",
       "        6.68401373e-01,  6.51105500e-01,  4.90627636e-01,  4.31694776e-01,\n",
       "        6.96475911e-01,  4.72335259e-01,  3.97438453e-01,  3.32263169e-01,\n",
       "        7.74604206e-01,  4.62680991e-01,  5.08915450e-01,  7.45816572e-01,\n",
       "        5.01635793e-01,  2.97039056e-01,  2.14147485e-01,  4.45119128e-01,\n",
       "        3.30199325e-01,  7.52952126e-01,  4.85766616e-01,  3.72500507e-01,\n",
       "        6.67186482e-01,  7.71493683e-01,  4.74717061e-01,  4.58211214e-01,\n",
       "        2.72525526e-01,  4.75184231e-01,  5.57572919e-01,  3.46584008e-01,\n",
       "        9.48692746e-02,  4.46641520e-01,  4.81729380e-01,  5.36236312e-01,\n",
       "        5.63612951e-01,  2.60527009e-01,  4.56073649e-01,  9.05021608e-01,\n",
       "        5.83078089e-01,  9.59553177e-01,  1.93168172e-01,  6.57425026e-01,\n",
       "        3.99841834e-01,  4.02033783e-01,  4.85087217e-01,  6.94863686e-01,\n",
       "        7.51862231e-01,  7.18376209e-01,  4.35857725e-01,  4.72784308e-01,\n",
       "        3.89663217e-01,  5.36488459e-01,  5.28010298e-01,  5.70057350e-01,\n",
       "        4.95360219e-01,  4.36419216e-01,  2.87116650e-01,  2.56893407e-01,\n",
       "        6.12796425e-01,  3.01403923e-01,  6.96583737e-01,  4.49030432e-01,\n",
       "        5.09605638e-01,  5.39665966e-01,  5.47255022e-01,  7.27984878e-01,\n",
       "        6.52897476e-01,  7.59224713e-01,  4.90572378e-01,  5.99555973e-01,\n",
       "        9.67752356e-02,  6.64551858e-01,  7.03427412e-01,  4.29591300e-01,\n",
       "        7.81841365e-01,  3.26538756e-01,  4.16492528e-01,  6.12011960e-01,\n",
       "        6.34682013e-01,  7.92534068e-01,  7.49607652e-01,  6.16974465e-01,\n",
       "        5.50458851e-01,  5.11016763e-01,  5.40489034e-01,  5.82506776e-01,\n",
       "        6.13735544e-01,  6.95863002e-01,  7.10873097e-01,  2.06981388e-01,\n",
       "        7.08733990e-01,  3.53550568e-01,  5.31995685e-01,  7.90794732e-01,\n",
       "        5.22901779e-01,  4.09981784e-01,  3.62095713e-01,  3.34819433e-01,\n",
       "        5.73553359e-01,  8.38771291e-01,  4.75389449e-01,  2.81315136e-01,\n",
       "        5.87049651e-01,  6.34989248e-01,  1.81081419e-01,  6.74058977e-01,\n",
       "        7.03510310e-01,  4.98647756e-01,  3.89581827e-01,  4.23677226e-01,\n",
       "        3.26286150e-01,  2.82294912e-01,  3.14222096e-01,  6.05918311e-01,\n",
       "        6.13487475e-01,  5.55871102e-01,  4.97640841e-01,  7.36880336e-01,\n",
       "        5.40206369e-01,  6.10368758e-01,  4.61592060e-01,  3.40571689e-01,\n",
       "        5.20553640e-01,  8.81677322e-01,  2.48332556e-01,  3.31220652e-02,\n",
       "        3.55682541e-01,  4.09205412e-01,  4.69380136e-01,  6.17669496e-01,\n",
       "        3.73768987e-01,  7.37497636e-01,  6.68726282e-01,  6.26736757e-01,\n",
       "        3.78016920e-01,  4.84371199e-01,  7.32408116e-01,  5.73117995e-01,\n",
       "        7.55457367e-01,  4.29587861e-01,  5.68949640e-01,  4.90601838e-01,\n",
       "        3.23386650e-01,  1.43739178e-01,  9.25957951e-01,  5.39344427e-01,\n",
       "        5.09914135e-01,  4.57146335e-01,  4.05975646e-01,  4.97629031e-01,\n",
       "        4.96460325e-01,  3.39043390e-01,  3.94451022e-01,  8.80354182e-01,\n",
       "        3.48400071e-01,  8.00256358e-01,  3.87560972e-01,  2.10564305e-01,\n",
       "        4.16416610e-01,  5.56488286e-01,  2.61605535e-01,  7.79936147e-01,\n",
       "        7.74291508e-01,  5.06168157e-01,  3.61012806e-01,  4.14599543e-01,\n",
       "        4.79498632e-01,  5.50209446e-01,  3.96564693e-01,  2.13651170e-01,\n",
       "        7.63339971e-01,  1.42793623e-01,  7.32717159e-01,  4.40205154e-01,\n",
       "        5.15750203e-01,  2.34429556e-01,  1.35274873e-01,  2.12680012e-01,\n",
       "        1.54355277e-01,  2.13865097e-01,  4.80471266e-01,  3.86603669e-01,\n",
       "        2.41461683e-01,  1.11870796e-01,  3.67914216e-01,  3.80546294e-01,\n",
       "       -3.98998866e-02,  5.84754942e-01,  2.61223654e-01,  6.43755152e-01,\n",
       "        1.02718745e+00,  6.24501387e-01,  1.05293853e-01,  3.84529383e-03,\n",
       "        5.23407462e-01,  4.39973308e-01, -9.57856216e-05,  5.33792620e-01,\n",
       "        6.55415686e-01,  8.01335422e-01,  4.62395848e-01,  4.48548692e-01,\n",
       "        6.99353097e-01,  6.80592847e-01,  7.05821457e-01,  7.12584371e-01,\n",
       "        1.13583141e-01,  7.03096641e-01,  6.27218275e-01,  3.82826215e-01,\n",
       "        2.65781169e-01,  4.00721592e-01,  6.87381174e-01,  5.52434928e-01,\n",
       "        1.07462057e-01,  6.41960185e-01,  8.37566395e-01,  4.69398905e-01,\n",
       "        4.25250850e-01,  6.90946184e-01,  4.30320784e-01,  6.67991958e-01,\n",
       "        3.50204607e-01,  5.17790252e-01,  6.11878405e-01,  5.26057208e-01,\n",
       "        4.22792555e-01,  3.54060594e-01,  2.88862635e-01,  9.05097657e-01,\n",
       "        4.07598031e-01,  4.47337562e-01,  3.36078259e-01,  6.06180943e-01,\n",
       "        3.90023376e-01,  5.55902465e-01,  3.06312194e-01,  1.69581967e-01,\n",
       "        4.61088998e-01,  5.98064272e-01,  4.90048868e-01,  8.18024966e-01,\n",
       "        7.42711776e-01,  6.08709715e-01,  7.73274637e-01,  5.23882108e-01,\n",
       "        9.15839751e-01,  6.82550968e-01,  2.95702184e-01,  4.69370475e-01,\n",
       "        5.34546858e-01,  6.64149956e-01,  3.42868405e-01,  5.28887865e-01,\n",
       "        7.69599021e-01,  2.71580702e-01,  5.86004947e-01,  3.07732851e-01,\n",
       "        5.93706142e-01,  2.70222996e-01,  2.82290868e-01,  4.87688274e-01,\n",
       "        6.58264222e-01,  7.77477767e-01,  5.64165053e-01,  3.31289778e-01,\n",
       "        3.58065330e-01,  4.75548054e-01,  2.29308085e-01,  3.68582283e-01,\n",
       "        3.95443306e-01,  4.65910051e-01,  3.74600606e-01,  6.32016069e-01,\n",
       "        5.36469635e-03,  2.53994454e-01,  8.44544968e-01,  3.84562833e-01,\n",
       "        6.40100943e-01,  6.06799712e-01,  8.14317075e-01,  4.12768968e-01,\n",
       "        4.15170165e-01,  4.06137286e-01,  3.08894191e-03,  5.08288866e-01,\n",
       "        8.56520999e-01,  2.80649002e-01,  5.43833943e-01,  3.68182402e-01,\n",
       "        2.40768671e-01,  3.35258449e-01,  7.09741026e-01,  6.99948139e-01,\n",
       "        3.92787236e-01,  2.14913409e-01,  7.05994798e-01,  6.33318633e-01,\n",
       "        4.36078573e-01,  5.90864286e-01,  9.29186724e-01,  5.69954965e-01,\n",
       "        8.17432674e-01,  6.12432342e-01,  1.24067516e-01,  7.56338359e-01,\n",
       "        5.56954800e-01,  7.33780560e-01,  4.95782938e-01,  4.59874530e-01,\n",
       "        5.07569146e-01,  3.80155946e-01,  7.94264811e-01,  3.71118859e-01,\n",
       "        4.80909439e-01,  5.52610883e-01,  5.76152145e-01,  6.02424456e-01,\n",
       "        5.34756474e-01,  3.72595011e-01,  2.82183399e-01,  1.11323764e-01,\n",
       "        4.96555782e-01,  2.97279237e-01,  6.98744126e-01,  5.99720400e-01,\n",
       "        7.88980562e-01,  5.48034118e-01,  5.26967603e-01,  6.18830830e-01,\n",
       "        4.03104018e-01,  5.35295379e-01,  5.58006412e-01,  5.72192419e-01,\n",
       "        3.94642255e-01,  3.64881773e-01,  3.89660207e-01,  3.83084741e-01,\n",
       "        6.12065985e-01,  7.13189365e-01,  8.76719167e-01,  7.68838373e-01,\n",
       "        6.14064541e-01,  5.72432287e-01,  6.56882473e-01,  1.23847945e-01,\n",
       "        3.30124581e-01,  6.98153292e-01,  3.00029658e-01,  3.92702057e-01,\n",
       "        4.15030617e-01,  5.43445614e-01,  3.26261553e-01,  5.42166214e-01,\n",
       "        3.93263256e-01,  6.78171664e-01,  6.07619352e-01,  6.17812789e-01,\n",
       "        7.62338442e-01,  2.81493669e-01,  8.55747421e-01,  4.47662176e-01,\n",
       "        6.21783764e-01,  4.86785386e-01,  6.64978656e-01,  2.92184840e-01,\n",
       "        6.97572890e-01,  2.79106834e-01,  3.01492085e-01,  8.29479804e-01,\n",
       "        6.49620844e-01,  3.86915097e-01,  3.19511889e-01,  6.26499385e-01,\n",
       "        5.46114529e-01,  6.09558863e-01,  6.37112488e-01,  4.36729265e-01,\n",
       "        5.66153109e-01,  7.27537072e-01,  2.92773060e-01,  3.22931607e-01,\n",
       "        5.36393661e-01,  2.94238333e-01,  8.11711263e-01,  6.47833572e-01,\n",
       "        6.22773853e-01,  2.26296228e-01,  5.09564463e-01,  3.64485343e-01,\n",
       "        4.77354595e-01,  3.97306163e-01,  1.95456629e-01,  5.09595842e-01,\n",
       "        1.32354388e-01,  6.71630755e-01,  3.76266337e-01,  7.51133127e-02,\n",
       "        6.81601225e-01,  3.01819111e-01,  5.29100721e-01,  6.05681259e-01,\n",
       "        3.20260174e-01,  7.12706944e-01,  4.98771070e-01,  6.28879900e-01,\n",
       "        5.96294580e-01,  4.58870101e-01,  3.52023318e-01,  4.47810714e-01,\n",
       "        4.61908754e-01,  5.77866587e-01,  6.36643499e-01,  6.25145032e-01,\n",
       "        5.10312121e-01,  2.42451162e-01,  7.53298476e-01,  5.63096912e-01,\n",
       "        5.93616672e-01,  7.82504264e-01,  4.33257529e-01,  5.14410963e-01,\n",
       "        8.84079273e-01,  3.49912332e-01,  6.79469799e-01,  3.71505416e-01,\n",
       "        6.21680542e-01,  4.50813465e-01,  5.98859595e-01,  5.30213594e-01,\n",
       "        6.29820153e-01,  7.38298471e-01,  7.46787394e-01,  4.27624336e-01,\n",
       "        5.19656585e-01,  3.32497173e-01,  3.06985640e-01,  3.70524759e-01,\n",
       "        1.98948630e-01,  7.68015912e-01,  8.10556720e-01,  2.38643037e-01,\n",
       "        5.74754914e-01,  7.91068596e-01,  3.08511366e-01,  3.39376895e-01,\n",
       "        7.34675678e-01,  1.03954418e+00,  2.45048133e-01,  6.56353479e-01,\n",
       "        6.25961564e-01,  9.21895820e-01,  8.17762696e-01,  7.96844488e-01,\n",
       "        5.14974224e-01,  4.87980937e-01,  6.68539352e-01,  6.47783709e-01,\n",
       "        2.14610175e-01,  3.50298798e-01,  6.37549645e-02,  3.63542252e-01,\n",
       "        6.45664653e-01,  4.52972075e-01,  4.94782742e-01,  2.09168488e-01,\n",
       "        5.24167340e-01,  2.23328230e-01,  4.05513209e-01,  5.25973680e-01,\n",
       "        4.44876981e-01,  4.05584678e-01,  2.56213119e-01,  4.64834309e-01,\n",
       "        9.77700583e-01,  4.47844609e-01,  6.92891633e-01,  3.88583687e-01,\n",
       "        1.29568291e-01,  4.58129430e-01,  3.89531881e-01,  6.16163818e-01,\n",
       "        4.72217360e-01,  5.10626688e-01,  1.99190937e-01,  5.69991813e-01,\n",
       "        3.65657673e-01,  6.38404478e-01,  6.83933690e-01,  5.20325155e-01,\n",
       "        6.34620962e-01,  4.44837258e-01,  3.83070125e-01,  3.06052439e-01,\n",
       "        4.17754500e-01,  5.13463441e-01,  5.91944937e-01,  4.12353948e-01,\n",
       "        7.03260552e-01,  3.43850648e-01,  3.31408905e-01,  3.71306523e-01,\n",
       "        4.86906755e-01,  5.11042622e-01,  2.98603004e-01,  1.60402175e-01,\n",
       "        1.93556860e-01,  5.55609725e-01,  8.19784291e-01,  7.04078546e-01,\n",
       "        2.81677077e-01,  7.73437859e-01,  7.01703877e-01,  5.03041511e-01,\n",
       "        5.86386201e-01,  9.61419734e-01,  4.42123976e-01,  2.12185234e-01,\n",
       "        6.34390467e-01,  3.80798378e-01,  2.20922924e-01,  7.34114438e-01,\n",
       "        4.24751074e-01,  5.98002129e-01,  7.67631290e-01,  8.48609922e-01,\n",
       "        4.20189812e-01,  4.01284258e-01,  5.96191203e-01,  3.59213531e-01,\n",
       "        5.72381133e-01,  6.34420513e-01,  8.56026567e-01,  7.07393599e-01,\n",
       "        5.11315759e-01,  4.24766852e-01,  5.21355515e-01,  4.05469015e-01,\n",
       "        8.35623327e-01,  3.96433259e-01,  7.86678361e-01,  7.15956104e-01,\n",
       "        2.81587578e-01,  3.90527156e-01,  4.83098976e-01,  4.01059591e-01,\n",
       "        9.02612469e-01,  4.03076328e-01,  5.52382139e-01,  7.85416017e-01,\n",
       "        4.71468054e-01,  6.67112580e-01,  6.82731076e-01,  5.01629559e-01,\n",
       "        7.09112729e-01,  4.72787123e-01,  3.29541588e-01,  7.37853163e-01,\n",
       "        5.00592968e-01,  5.36698636e-01,  3.82494778e-01,  4.59207813e-01,\n",
       "        7.32256947e-01,  4.57028366e-01,  6.91393578e-01,  4.18590874e-01,\n",
       "        3.96237480e-01,  6.05301344e-01,  1.54297448e-01,  6.47690143e-01,\n",
       "        8.67654641e-01,  3.63060076e-01,  6.70636516e-01,  2.35292349e-01,\n",
       "        3.38159980e-01,  4.13559629e-01,  9.36733510e-01,  4.52345859e-01,\n",
       "        4.98126848e-01,  4.61685475e-01,  5.73492374e-01,  5.97918435e-01,\n",
       "        7.93715688e-01,  4.13423386e-01,  5.96532980e-01,  6.88112754e-01,\n",
       "        5.48846949e-01,  5.69088164e-01,  4.38457805e-01,  8.60542066e-01,\n",
       "        4.32969040e-01,  2.49005854e-02,  7.88303230e-01,  6.75993142e-01,\n",
       "        5.27477134e-01,  5.18284068e-01,  3.62902982e-01,  3.56795540e-01,\n",
       "        4.20710137e-01,  6.32812654e-01,  6.82932389e-01,  9.14924334e-01,\n",
       "        6.70098166e-01,  5.46469652e-01,  9.84268424e-01,  9.84293846e-01,\n",
       "        4.07162023e-01,  5.57652890e-01,  8.44769007e-01,  4.82695312e-01,\n",
       "        4.37865959e-01,  5.42740806e-01,  2.97231585e-01,  4.60034893e-01,\n",
       "        3.37334497e-01,  5.79928418e-01,  6.79820231e-01,  3.14999641e-01,\n",
       "        3.99305053e-01,  6.27469875e-01,  6.58573302e-01,  2.93595524e-01,\n",
       "        4.26344915e-01,  3.13293216e-01,  8.05136423e-01,  3.24368890e-01,\n",
       "        7.57460385e-01,  5.81303955e-01,  7.93335446e-01,  5.16619672e-01,\n",
       "        1.04733397e-01,  6.73475553e-01,  6.55479184e-01,  4.88733461e-01,\n",
       "        8.72053082e-02,  4.07752896e-01,  5.46353556e-01,  3.22143548e-01,\n",
       "        2.75619177e-01,  5.24959568e-01,  6.91340495e-01,  3.17004170e-01,\n",
       "        3.19827790e-01,  1.99574515e-01,  6.76094533e-01,  7.71741600e-01,\n",
       "        7.23399752e-01,  5.33933184e-01,  5.91189709e-01,  5.17623188e-01,\n",
       "        1.93467054e-01,  3.93645873e-01,  8.86958877e-01,  6.87680443e-01,\n",
       "        7.19092063e-01,  3.64765397e-01,  4.41457896e-01,  4.25272992e-01,\n",
       "        6.19698163e-01,  4.59226044e-01,  5.28329273e-01,  4.07721300e-01,\n",
       "        5.50764559e-01,  6.70400040e-01,  4.91617676e-01,  4.81249221e-01,\n",
       "        6.51760261e-01,  4.37440114e-01,  3.02938558e-01,  6.39135722e-01,\n",
       "        3.36992780e-01,  5.99185445e-01,  2.44004298e-01,  7.98561167e-01,\n",
       "        4.39034421e-01,  4.11746739e-01,  4.36358548e-01,  6.28593300e-01,\n",
       "        7.08715367e-01,  3.61964747e-01,  5.57030350e-01,  3.43060205e-01,\n",
       "        3.97895825e-01,  5.09857456e-01,  2.87495740e-01,  5.53781993e-01,\n",
       "        4.82906801e-01,  7.62584997e-01,  7.00132069e-01,  2.61237670e-01,\n",
       "        7.42846511e-01,  3.22068876e-01,  7.31724255e-01,  4.39202383e-01,\n",
       "        6.29632168e-02,  7.15582301e-01,  6.78695565e-01,  3.54739242e-01,\n",
       "        3.35887784e-01,  4.18088869e-01,  4.05552386e-01,  6.04825223e-01,\n",
       "        4.49913512e-01,  4.76373554e-01,  1.44486215e-01,  4.72837016e-01,\n",
       "        4.96330034e-01,  7.47066787e-01,  2.97766967e-01,  2.93542589e-01,\n",
       "        6.05216325e-01,  5.30472950e-01,  3.19593630e-01,  6.22651783e-01,\n",
       "        8.37674750e-01,  6.00713885e-01,  1.78266746e-01,  5.22104577e-01,\n",
       "        5.34149219e-01,  2.42970592e-01,  4.82467768e-01,  4.69274612e-01,\n",
       "        2.79050957e-01,  3.89395268e-01,  2.97233014e-01,  3.00248993e-01,\n",
       "        4.94214378e-01,  5.63090096e-01,  5.88313087e-01,  1.03361411e+00,\n",
       "        5.51694821e-01,  6.58102180e-01,  2.04912459e-01,  2.19484252e-01,\n",
       "        6.89553558e-01,  3.88710031e-01,  9.06573993e-01,  6.87198957e-01,\n",
       "        2.33666953e-01,  7.40341772e-01,  3.26519768e-01,  8.09663865e-01,\n",
       "        3.63104577e-01,  5.35075619e-01,  3.58547175e-01,  7.37300986e-01,\n",
       "        3.36455050e-01,  2.87928519e-01,  5.42974563e-01,  4.92406496e-01,\n",
       "        1.39228191e-01,  2.57017082e-01,  6.33163999e-01,  5.47992285e-01,\n",
       "        8.84707644e-01,  7.93722364e-01,  3.81172866e-01,  7.83391972e-02,\n",
       "        4.60836424e-01,  7.55873742e-01,  5.39703147e-01,  1.29532121e-01,\n",
       "        2.79428058e-01,  6.09278771e-01,  4.53185069e-01,  1.21499763e-01,\n",
       "        2.31118677e-01,  4.11089552e-01,  7.06727820e-01,  2.57917805e-01,\n",
       "        8.10237387e-01,  5.28503608e-01,  5.77825283e-01,  7.54385042e-02])"
      ]
     },
     "execution_count": 28,
     "metadata": {},
     "output_type": "execute_result"
    }
   ],
   "source": [
    "# Create a normal Distributed data\n",
    "\n",
    "# Here, loc = mean, and scale = Standard deviation\n",
    "\n",
    "normal_data = np.random.normal(loc=0.5, scale=0.2, size=1000)\n",
    "\n",
    "normal_data"
   ]
  },
  {
   "cell_type": "code",
   "execution_count": 29,
   "id": "212b2873-1447-44d6-b97d-dbfcced0a7c4",
   "metadata": {},
   "outputs": [
    {
     "data": {
      "text/plain": [
       "<Figure size 432x432 with 0 Axes>"
      ]
     },
     "metadata": {},
     "output_type": "display_data"
    },
    {
     "data": {
      "image/png": "[encoded data removed]",
      "text/plain": [
       "<Figure size 360x360 with 1 Axes>"
      ]
     },
     "metadata": {
      "needs_background": "light"
     },
     "output_type": "display_data"
    }
   ],
   "source": [
    "plt.figure(figsize=(6,6))\n",
    "sns.displot(data=normal_data, kde=True)\n",
    "plt.show()"
   ]
  },
  {
   "cell_type": "markdown",
   "id": "84f553ac-4177-4d9c-b291-4411a7fa3056",
   "metadata": {},
   "source": [
    "### Log Normal Distribution,Power Law Distribution"
   ]
  },
  {
   "cell_type": "code",
   "execution_count": 30,
   "id": "ae876a81-fbc9-4e6a-bdd3-a178a2477bf9",
   "metadata": {
    "scrolled": true,
    "tags": []
   },
   "outputs": [
    {
     "data": {
      "text/plain": [
       "array([2.90071929e+01, 4.38361830e+01, 4.59721362e+01, 6.87574400e+00,\n",
       "       2.41815621e+01, 4.36792187e+01, 5.34586243e+01, 8.54820344e+00,\n",
       "       8.47254260e+01, 8.48530183e+00, 1.83766701e+00, 7.77879076e+00,\n",
       "       3.25374665e+01, 2.34130175e+01, 1.15347493e+01, 1.08935518e+01,\n",
       "       4.83999137e+00, 7.61465058e+01, 2.13015713e+01, 2.25930900e+01,\n",
       "       5.77577045e+00, 6.29441356e+00, 7.98785663e+01, 1.84501911e+01,\n",
       "       1.05520165e+01, 1.74084534e+01, 1.57204467e+01, 2.79995752e+01,\n",
       "       1.37574964e+01, 1.18393785e+01, 1.02963089e+01, 3.02117918e+01,\n",
       "       1.10124921e+01, 2.84059467e+01, 5.82233789e+00, 2.31551576e+01,\n",
       "       2.97094656e+01, 1.96524274e+01, 8.30593738e+00, 1.64407706e+01,\n",
       "       1.87241752e+01, 2.07115637e+01, 8.72243966e+00, 2.37097538e+01,\n",
       "       6.43060859e+00, 1.04422647e+01, 2.43076680e+00, 2.69815076e+01,\n",
       "       1.51739900e+01, 1.38430504e+01, 3.08024965e+01, 1.31622641e+01,\n",
       "       1.73400469e+01, 4.62454793e+01, 8.75414359e+01, 1.61083199e+01,\n",
       "       1.45118549e+01, 1.27766854e+01, 6.58397945e+00, 8.72948106e+00,\n",
       "       3.34857336e+01, 1.98999723e+01, 1.07096918e+00, 1.03614958e+02,\n",
       "       8.44156902e+01, 8.74529580e+01, 2.04719751e+01, 4.78070758e+00,\n",
       "       5.17325921e+01, 7.36080254e+00, 6.45702646e+01, 1.07366910e+01,\n",
       "       6.18637096e+00, 2.71464057e+01, 3.02165263e+01, 2.21760853e+01,\n",
       "       1.83015343e+01, 3.50431362e+01, 4.75646514e+01, 3.80440119e+01,\n",
       "       3.43132556e+01, 3.66859051e+01, 2.74184385e+01, 7.79949934e+00,\n",
       "       2.55078469e+02, 2.64501518e+01, 6.34317337e+00, 1.07153948e+01,\n",
       "       1.36550169e+02, 2.84188042e+01, 6.26972396e+01, 2.17961910e+01,\n",
       "       1.10407620e+01, 7.78875407e+00, 3.05587836e+00, 4.78140034e+00,\n",
       "       7.39278538e+00, 1.71015131e+01, 2.80221725e+01, 2.16665994e+01,\n",
       "       1.75392941e+01, 2.67681043e+01, 3.54895234e+01, 3.39581780e+01,\n",
       "       1.13074941e+01, 1.16305266e+01, 8.26989477e+00, 2.82725999e+01,\n",
       "       2.17406805e+01, 5.79781632e+00, 9.18986746e+01, 1.06785307e+01,\n",
       "       2.04562638e+01, 7.30912516e+00, 6.72044651e+01, 3.59515419e+00,\n",
       "       1.02538271e+01, 2.27237381e+01, 1.48691868e+01, 5.05361282e+01,\n",
       "       1.29392462e+01, 2.35091551e+00, 2.92065697e+01, 1.03806612e+01,\n",
       "       7.60322287e+00, 7.12837954e+01, 1.86580511e+01, 4.47738210e+01,\n",
       "       2.80383205e+01, 1.54532217e+01, 5.70521391e+01, 2.62061917e+01,\n",
       "       1.95805699e+01, 2.92157649e+01, 3.72851438e+01, 8.82231713e+01,\n",
       "       1.02874131e+02, 3.47101199e+01, 8.40464322e+01, 2.57018374e+01,\n",
       "       3.92136636e+00, 3.51594171e+00, 1.40491102e+01, 6.52317002e+00,\n",
       "       9.52158794e+01, 3.07385345e+00, 1.42806043e+01, 3.02936454e+01,\n",
       "       1.76962758e+01, 1.99106178e+00, 4.78044336e+01, 7.70751971e+00,\n",
       "       1.49485153e+01, 4.21400200e+01, 4.09923311e+01, 1.72095549e+02,\n",
       "       1.05865512e+02, 6.33632018e+01, 2.30322230e+01, 5.39502222e+01,\n",
       "       1.02119577e+01, 9.10188902e+00, 1.07660394e+01, 9.30220922e+00,\n",
       "       1.25617229e+01, 7.92509102e+00, 1.20051254e+01, 5.45337714e+01,\n",
       "       4.08815894e+01, 8.30681228e+01, 5.49082082e+00, 4.28434041e+01,\n",
       "       1.63452603e+01, 1.63285699e+01, 6.95249488e+01, 1.45347335e+01,\n",
       "       7.69120020e+00, 1.34357833e+01, 4.78507860e+01, 4.49344618e+00,\n",
       "       1.33030325e+01, 1.54359628e+00, 4.81268936e+00, 7.70639939e+00,\n",
       "       6.22004668e+01, 9.67666959e+00, 2.01945209e+02, 1.44780592e+01,\n",
       "       9.82160268e+00, 2.88607961e+01, 1.21068255e+01, 4.56214440e+01,\n",
       "       4.42648229e+01, 1.40777961e+01, 2.77684633e+01, 6.95948926e+01,\n",
       "       2.02774049e+02, 4.99692237e+00, 3.08917896e+01, 1.67372193e+01,\n",
       "       2.70139950e+01, 6.11262278e+00, 2.50986910e+01, 1.48411262e+01,\n",
       "       5.90928390e+01, 1.10477633e+01, 2.64520054e+01, 1.38637536e+01,\n",
       "       5.06299379e+01, 1.37523484e+01, 2.37921482e+01, 2.79187568e+01,\n",
       "       2.01703740e+01, 6.74748891e+00, 4.42920394e+01, 1.30607369e+02,\n",
       "       1.39943813e+01, 2.53244215e+00, 1.72280133e+01, 7.67146421e+00,\n",
       "       5.10907320e+00, 4.53292667e+00, 1.88746982e+01, 2.91807494e+01,\n",
       "       5.00793470e+00, 4.96918592e+00, 2.91228424e+01, 2.28239711e+01,\n",
       "       1.77175018e+01, 2.11295045e+01, 2.77413456e+01, 1.69108440e+01,\n",
       "       6.37639195e+01, 5.71468916e+01, 3.05187874e+01, 5.86588710e+01,\n",
       "       1.66203491e+01, 2.86144811e+01, 2.75628047e+01, 4.43416383e+00,\n",
       "       1.13745569e+01, 6.57931365e+01, 3.56400096e+01, 4.58968263e+00,\n",
       "       1.74236793e+01, 3.23191266e+00, 1.82006749e+01, 6.02203492e+00,\n",
       "       1.05264625e+01, 4.16118321e+01, 3.73251335e+01, 2.11699723e+01,\n",
       "       1.53020510e+01, 2.93622765e+01, 1.06871077e+01, 1.98738266e+01,\n",
       "       4.13622142e+00, 4.90634007e+01, 4.44238909e+01, 2.09705621e+01,\n",
       "       3.37273262e+01, 1.79032633e+01, 5.20318123e+00, 1.09491003e+01,\n",
       "       7.70315126e+00, 2.28933484e+01, 7.05548453e+00, 5.53274032e+00,\n",
       "       5.21715307e+01, 1.12887439e+01, 5.87334305e+01, 7.30544377e+00,\n",
       "       6.51811089e+00, 4.58649850e+01, 3.57685734e+01, 5.91029752e+01,\n",
       "       2.06603302e+01, 5.45042399e+00, 2.08791298e+01, 3.39315580e+01,\n",
       "       1.85724317e+01, 5.63335317e+00, 3.61885037e+01, 1.40069807e+01,\n",
       "       2.24241944e+00, 1.03874845e+01, 5.03149048e+01, 1.30139791e+01,\n",
       "       3.75624765e+01, 4.53414030e+00, 1.26820253e+01, 7.38083556e+01,\n",
       "       1.55215458e+02, 7.46325248e+00, 2.72058696e+01, 1.03211952e+01,\n",
       "       4.65750876e+00, 1.77620840e+01, 1.02157848e+01, 7.40698670e+01,\n",
       "       1.60616872e+01, 4.00383631e+01, 7.04234938e+01, 1.28814773e+01,\n",
       "       1.18295203e+01, 5.32854345e+00, 1.14699865e+01, 7.00822671e+00,\n",
       "       4.42170282e+00, 2.65514035e+01, 9.15951341e+00, 3.83662670e+01,\n",
       "       1.97858375e+01, 1.46417178e+01, 6.06560318e+00, 1.35341968e+01,\n",
       "       3.36396764e+01, 4.45509904e+01, 1.54608014e+01, 2.62945257e+01,\n",
       "       1.71423849e+01, 1.65145698e+01, 1.19091190e+01, 1.69557308e+01,\n",
       "       2.68407035e+01, 3.39050041e+01, 1.84805230e+00, 1.46946953e+01,\n",
       "       5.42580094e+00, 3.48202845e+01, 7.79971632e+01, 1.95991269e+01,\n",
       "       6.40151407e+01, 1.12263533e+01, 1.09939273e+01, 2.69307723e+01,\n",
       "       3.52668413e+01, 5.21033739e+01, 1.47168037e+01, 3.28178483e+01,\n",
       "       3.48857070e+01, 5.38925253e+01, 4.92745898e+01, 5.42719280e+01,\n",
       "       2.55560558e+01, 2.06025868e+01, 3.70018297e+01, 3.81690975e+01,\n",
       "       3.99728327e+01, 2.39945712e+01, 3.34123552e+01, 8.76313904e+01,\n",
       "       1.45876853e+01, 9.98930100e+00, 2.22993288e+01, 1.70487349e+01,\n",
       "       9.33963298e+01, 6.84317805e+00, 9.27635964e+00, 3.51013981e+01,\n",
       "       4.93609129e+01, 3.58418158e+00, 6.94349283e+00, 8.35228793e+00,\n",
       "       7.49593757e+01, 4.46950717e+01, 9.17244160e+01, 1.49431922e+01,\n",
       "       1.98976306e+01, 7.29227691e+00, 1.40754848e+01, 2.55792695e+01,\n",
       "       8.53870038e+00, 4.32033803e+01, 2.06658945e+01, 2.67216741e+01,\n",
       "       1.02414548e+02, 3.09324527e+01, 4.67911317e+01, 4.74610478e+01,\n",
       "       3.76339954e+00, 1.02361056e+02, 1.06813008e+02, 2.19195448e+01,\n",
       "       1.74311483e+01, 2.67930833e+01, 2.05446683e+01, 4.06752576e+00,\n",
       "       1.26220066e+01, 8.17389979e+01, 8.61677980e+01, 1.85596657e+01,\n",
       "       2.90273368e+01, 2.60746442e+00, 1.68700616e+01, 3.13610752e+01,\n",
       "       5.72041971e+01, 1.38878989e+02, 2.71912907e+01, 4.69799476e+01,\n",
       "       7.26047651e+01, 1.18799823e+01, 2.01341592e+01, 1.28498195e+00,\n",
       "       2.00978868e+01, 5.37965704e+01, 5.13844401e+01, 3.55136183e+00,\n",
       "       5.59121222e+00, 1.99489304e+01, 9.68266809e+00, 2.37392487e+01,\n",
       "       5.09952697e+01, 1.25133134e+01, 7.14918284e+00, 1.16258714e+01,\n",
       "       4.69543884e+00, 3.21462478e+01, 5.59571077e+01, 1.64841846e+01,\n",
       "       1.22820309e+01, 1.49212495e+01, 6.87372721e+00, 1.34696701e+02,\n",
       "       9.55387013e+00, 1.49579978e+01, 3.28111928e+01, 7.60747772e+00,\n",
       "       1.68427413e+01, 7.66701219e+00, 3.87962755e+01, 3.15833782e+01,\n",
       "       4.35429799e+01, 4.07502160e+00, 3.26766932e+01, 3.41755226e+01,\n",
       "       2.36316846e+01, 1.13812167e+01, 2.49836560e+01, 8.87930612e+01,\n",
       "       7.22659890e+01, 4.74990218e+01, 7.83079975e+00, 3.42900259e+00,\n",
       "       1.00653928e+01, 5.45091878e+01, 4.21377270e+01, 1.11266180e+01,\n",
       "       6.02197038e+01, 8.24257178e+00, 5.13435981e+00, 4.33115553e+01,\n",
       "       4.94811912e+01, 1.58531306e+01, 3.17291678e+01, 3.56954181e+01,\n",
       "       7.71696568e+01, 1.79676292e+01, 8.64226508e+00, 7.76054527e+01,\n",
       "       2.72743189e+00, 3.53670961e+01, 1.58665383e+01, 1.43213632e+01,\n",
       "       2.87323185e+01, 2.42878889e+01, 5.19557164e+01, 6.18503912e+01,\n",
       "       7.50130663e+01, 3.14480395e+01, 5.85979159e+00, 1.18096361e+01,\n",
       "       6.22752880e+00, 1.36668686e+01, 4.38758098e+01, 5.15564037e+00,\n",
       "       2.13022669e+01, 1.04575429e+01, 7.81410383e+00, 1.30828305e+02,\n",
       "       6.56449422e+01, 1.48805611e+02, 8.33460575e+00, 3.15504309e+01,\n",
       "       5.85360107e+00, 1.96659024e+01, 5.74547471e+01, 8.17916291e+01,\n",
       "       8.39005754e+00, 3.73552813e+01, 1.87105962e+02, 2.30634295e+01,\n",
       "       2.74763744e+01, 4.46947398e+00, 9.51109560e+00, 2.85376150e+01,\n",
       "       1.18863855e+02, 1.99713865e+01, 4.01908734e+00, 1.14845054e+01,\n",
       "       1.42597232e+00, 1.06306875e+01, 6.60972673e+01, 4.93978466e+00,\n",
       "       5.65769983e+00, 3.42189124e+01, 3.02000154e+01, 6.62542960e+01,\n",
       "       3.05505169e+01, 3.32644255e+00, 1.13971172e+01, 7.29191712e+00,\n",
       "       1.38912333e+02, 1.13291454e+01, 1.28040112e+01, 2.52299827e+01,\n",
       "       9.33626770e+01, 4.87633605e+01, 4.48693385e+01, 8.19719952e+01,\n",
       "       1.81426531e+01, 4.39959453e+01, 8.76810557e+00, 3.47232887e+01,\n",
       "       1.06030688e+01, 6.34258562e+00, 1.86119124e+01, 1.63714327e+01,\n",
       "       1.85362353e+01, 1.99687688e+01, 1.81415468e+01, 1.30535598e+02,\n",
       "       3.98136364e+00, 1.60748779e+01, 2.14004477e+01, 1.13568233e+01,\n",
       "       3.45587571e+01, 9.33214278e+00, 1.33049667e+01, 7.79403426e+00,\n",
       "       6.72226120e+01, 2.14514931e+01, 2.19776281e+01, 1.01706792e+01,\n",
       "       3.16074778e+00, 2.38500347e+01, 4.04551230e+01, 1.15202413e+01,\n",
       "       3.14923392e+00, 5.02082456e+01, 1.55972926e+01, 2.11953924e+01,\n",
       "       5.43313484e+01, 2.64242302e+01, 1.06535984e+01, 2.72698394e+01,\n",
       "       1.26968387e+02, 7.35725300e-01, 5.00932050e+00, 2.35828015e+01,\n",
       "       7.20721382e+00, 6.57330832e+00, 3.72443863e+01, 1.22318302e+01,\n",
       "       1.40402863e+01, 2.49454884e+01, 5.61519303e+00, 4.42845272e+01,\n",
       "       1.44092521e+01, 1.46765356e+01, 7.35504475e+00, 6.98614302e+00,\n",
       "       7.41419558e+01, 6.59091637e+00, 3.70693173e+01, 4.47216750e+01,\n",
       "       1.01503204e+01, 2.42872588e+01, 2.57344421e+01, 1.51602213e+01,\n",
       "       4.79649551e+01, 1.09821449e+01, 1.44792246e+02, 1.63184196e+01,\n",
       "       2.11618120e+01, 7.24014184e+00, 7.40648582e+00, 9.53106647e+00,\n",
       "       5.43490673e+01, 1.62315424e+01, 1.25164443e+01, 5.44366130e+00,\n",
       "       4.20842815e+00, 8.55404710e+00, 5.78162305e+01, 4.87799219e+01,\n",
       "       1.75803216e+01, 3.06077919e+01, 2.81710144e+01, 1.05106707e+02,\n",
       "       9.16954162e+00, 7.00617612e+01, 9.35136750e+00, 5.09238543e+00,\n",
       "       4.92466395e+00, 7.17989628e+00, 5.28193204e+01, 2.64316681e+01,\n",
       "       4.24109234e+01, 5.83315072e+01, 2.82835926e+01, 1.74761927e+01,\n",
       "       1.52622919e+01, 1.24835360e+01, 5.34664019e+00, 1.25420888e+01,\n",
       "       2.36001426e+01, 2.01593225e+01, 4.52481665e+00, 6.40644905e+01,\n",
       "       2.69492816e+01, 3.58044338e+01, 1.50481922e+01, 2.07114805e+01,\n",
       "       2.99544302e+00, 1.52809035e+02, 1.87370061e+00, 3.85581256e+01,\n",
       "       9.24822575e+01, 1.03202622e+01, 2.44693722e+01, 1.28597867e+01,\n",
       "       5.78041121e+01, 7.08477808e+00, 2.20212064e+01, 1.45460997e+01,\n",
       "       2.78086355e+00, 2.69962555e+01, 2.39477936e+01, 1.27602699e+01,\n",
       "       2.39697852e+01, 3.56167022e+01, 4.93212644e+01, 5.04469892e+00,\n",
       "       1.01517202e+02, 5.53247039e+01, 4.10277962e+01, 9.63815966e+01,\n",
       "       2.48932034e+01, 9.88693185e+01, 2.42144544e+01, 3.63423969e+01,\n",
       "       4.91378740e+01, 4.98529107e+01, 1.03394802e+02, 4.74243148e+00,\n",
       "       1.14422318e+01, 5.97670056e+01, 1.37879331e+02, 2.31131328e+01,\n",
       "       3.96589889e+02, 4.67008339e+01, 3.71555732e+00, 4.03911379e+01,\n",
       "       8.07514167e+00, 1.80728924e+01, 1.36091620e+01, 5.55420791e+00,\n",
       "       9.92918276e+01, 2.46852168e+01, 2.12739454e+01, 1.42520551e+01,\n",
       "       2.47285492e+00, 4.19615602e+01, 1.20851153e+01, 1.17217438e+01,\n",
       "       1.94091599e+01, 6.06168501e+01, 7.56182554e+00, 2.52006835e+01,\n",
       "       8.98580441e+01, 7.39439926e+00, 1.79122016e+01, 3.58856141e+00,\n",
       "       1.21661788e+02, 3.78573753e+01, 1.80718612e+01, 1.39736571e+02,\n",
       "       1.77100784e+01, 8.66277840e+01, 1.45856828e+01, 1.22607015e+01,\n",
       "       9.01081041e+01, 1.23899341e+01, 2.47736460e+01, 1.30364377e+01,\n",
       "       2.87825397e+01, 5.71455818e+01, 4.34372954e+00, 1.94475428e+01,\n",
       "       4.87141926e+01, 4.77390401e+00, 3.52561660e+01, 6.38766983e+00,\n",
       "       2.76826241e+01, 2.53992325e+00, 1.13176187e+01, 4.52942251e+01,\n",
       "       1.45832296e+01, 1.19624642e+01, 1.37712047e+02, 1.28358830e+01,\n",
       "       7.68854802e+00, 2.50058214e+01, 3.22687258e+01, 2.59347307e+02,\n",
       "       1.69819505e+01, 2.52219796e+02, 6.99672175e+01, 4.30788797e+01,\n",
       "       5.88418718e+01, 2.29535510e+01, 2.14040516e+01, 4.93743557e+00,\n",
       "       4.45674893e+01, 6.80699719e+00, 1.17659620e+01, 1.78112958e+01,\n",
       "       1.15070885e+01, 7.88922146e+00, 1.03373206e+01, 1.14803316e+01,\n",
       "       5.75569029e+00, 1.26848429e+01, 3.95621927e+01, 4.83706634e+01,\n",
       "       8.72585741e+00, 8.05952022e+00, 2.32280783e+01, 1.43146541e+01,\n",
       "       3.23863039e+00, 3.83825774e+01, 7.12736412e+00, 1.83924856e+01,\n",
       "       1.19125630e+01, 3.95935989e+01, 1.63406359e+01, 2.86677210e+01,\n",
       "       4.71421276e+01, 4.17264638e+01, 1.41674863e+00, 1.06183608e+01,\n",
       "       8.36821826e+00, 1.61502927e+01, 4.53781403e+01, 5.84012244e+01,\n",
       "       1.98432075e+01, 1.00633777e+02, 1.99792224e+01, 1.43978676e+00,\n",
       "       1.07806367e+02, 1.97533310e+01, 1.78745429e+01, 6.38148030e+01,\n",
       "       9.81699720e+00, 2.44712751e+01, 1.23991355e+01, 5.38144899e+00,\n",
       "       1.04605436e+01, 5.93245753e+00, 3.45343735e+01, 4.22704727e+01,\n",
       "       1.16349101e+01, 2.78240479e+01, 5.18241013e+01, 1.75912412e+00,\n",
       "       9.44818316e+00, 2.85431037e+01, 3.18056958e+01, 8.00817333e+01,\n",
       "       1.31236253e+01, 3.96473988e+00, 7.87971788e+00, 1.28470215e+01,\n",
       "       7.67054754e+02, 2.00595448e+02, 1.38851793e+01, 3.39606940e+01,\n",
       "       1.38728856e+02, 3.94201935e+01, 5.47868254e+01, 2.61314797e+01,\n",
       "       9.97675605e+00, 6.89239242e+00, 1.55856022e+01, 5.07933979e+01,\n",
       "       2.30001097e+01, 1.77883878e+01, 4.54016412e+00, 8.26285545e+01,\n",
       "       3.56635780e+01, 7.61505535e+01, 1.09327952e+01, 1.68051629e+01,\n",
       "       2.15238837e+01, 7.48953719e+01, 5.83182631e+00, 1.53567403e+01,\n",
       "       8.44052226e+00, 1.06333600e+01, 4.21192531e+00, 3.53364413e+01,\n",
       "       8.71778189e+00, 7.57313902e+01, 1.99327418e+01, 3.08059762e+01,\n",
       "       1.16698751e+01, 7.70734494e+01, 1.10012758e+01, 1.45998042e+02,\n",
       "       7.22370512e+01, 1.15801406e+00, 1.34441384e+01, 2.56743312e+01,\n",
       "       6.09234874e+00, 1.16654340e+01, 4.97588984e+00, 2.11613320e+01,\n",
       "       1.07575266e+01, 5.44532460e+01, 3.34066390e+00, 7.06478936e+01,\n",
       "       3.65779177e+01, 5.49024767e+01, 2.02026033e+01, 8.18727772e+00,\n",
       "       1.76803448e+01, 1.80650382e+01, 5.30636451e+01, 6.00888148e+00,\n",
       "       4.02655869e+01, 1.75512483e+01, 1.62255795e+01, 2.99388151e+01,\n",
       "       4.80514507e+00, 1.75192709e+01, 5.92818537e+01, 8.75840867e+00,\n",
       "       1.86825574e+01, 6.08437268e+01, 4.35831509e+01, 9.04596399e+00,\n",
       "       8.18386641e+00, 1.35792647e+01, 3.92667670e+01, 3.95323818e+00,\n",
       "       1.61206229e+00, 2.20928720e+01, 2.82959678e+00, 1.44771734e+01,\n",
       "       1.24155763e+01, 1.58776964e+01, 1.25894934e+01, 2.62127679e+00,\n",
       "       3.79702325e+01, 1.29429757e+01, 4.99579854e+00, 1.07898237e+02,\n",
       "       8.08192050e+00, 6.35014539e+01, 1.22941400e+01, 6.66178912e+00,\n",
       "       6.08829095e+00, 2.56304287e+01, 2.33723173e+01, 8.38229252e+01,\n",
       "       3.10370426e+01, 1.62415752e+01, 5.73141148e+01, 1.18451294e+01,\n",
       "       2.01950075e+01, 1.21462300e+01, 3.13274766e+00, 3.70126950e+01,\n",
       "       2.81227494e+01, 3.23184278e+01, 1.81035124e+01, 4.91940871e+00,\n",
       "       3.82480802e+00, 4.29999911e+01, 1.26534407e+01, 2.83297600e+01,\n",
       "       5.83991943e+00, 9.66520163e+01, 2.34587618e+01, 3.25458361e+00,\n",
       "       2.94776537e+01, 2.32408663e+01, 2.87331356e+01, 7.16446709e+00,\n",
       "       5.12268209e+01, 6.73085790e+01, 6.80263142e+00, 8.80131775e+01,\n",
       "       3.73644349e+01, 1.14525711e+01, 2.94448529e+01, 1.43544153e+01,\n",
       "       1.98381353e+01, 9.49846066e+00, 3.59391227e+01, 1.44157653e+01,\n",
       "       8.23712379e+01, 2.96191086e+01, 8.11486859e+00, 1.36220376e+01,\n",
       "       1.03105449e+01, 7.54975498e+00, 6.75584477e+01, 1.51713192e+01,\n",
       "       2.87863646e+01, 3.92237568e+00, 9.10431966e+00, 2.16297657e+01,\n",
       "       3.74605684e+01, 2.04820016e+01, 1.76805019e+01, 7.43758282e+01,\n",
       "       5.47612914e+00, 4.94989427e+00, 1.16015297e+01, 2.70655562e+01,\n",
       "       1.14277566e+01, 4.85169413e+01, 6.56539935e+00, 2.77453977e+01,\n",
       "       1.94981517e+01, 1.73399549e+01, 4.01202780e+00, 7.18695391e+00,\n",
       "       2.73954203e+01, 2.61142937e+01, 9.49595468e+00, 7.15318927e+00,\n",
       "       1.39287498e+01, 3.58527239e+01, 1.50631639e+01, 9.91782846e+01,\n",
       "       4.49653015e+00, 9.69838979e+00, 1.85680630e+01, 8.74121077e+01,\n",
       "       7.19660375e+01, 4.22565626e+01, 7.30508160e+01, 1.93502798e+01,\n",
       "       3.85667177e+00, 2.23556677e+00, 1.07961778e+02, 7.53384398e+00,\n",
       "       2.90342546e+01, 2.15160655e+01, 3.46155463e+00, 3.96437880e+01,\n",
       "       3.21946542e+01, 1.24694855e+02, 4.45682625e+01, 3.37909680e+01,\n",
       "       1.00829088e+01, 7.28442243e+00, 4.75027073e+01, 1.09716610e+01,\n",
       "       7.67249017e+00, 1.87525921e+01, 9.92503070e+00, 1.29016450e+01,\n",
       "       6.08561338e+00, 2.85046097e+01, 7.86015356e+00, 3.74101057e+01,\n",
       "       2.24267885e+01, 1.06785403e+01, 9.29787908e+00, 8.38583521e+00,\n",
       "       3.81700752e+01, 1.50231426e+01, 1.96703073e+01, 1.12433532e+02,\n",
       "       2.55962060e+01, 9.97678961e+01, 1.89115669e+01, 1.04766173e+01,\n",
       "       4.27005435e+01, 2.76944395e+01, 6.74071030e+00, 4.12304443e+00,\n",
       "       2.67603146e+01, 2.84693315e+01, 4.60536884e+01, 6.61358507e+00])"
      ]
     },
     "execution_count": 30,
     "metadata": {},
     "output_type": "execute_result"
    }
   ],
   "source": [
    "lnd = np.random.lognormal(mean=3., sigma=1., size=1000) # here, sigma = std\n",
    "lnd"
   ]
  },
  {
   "cell_type": "code",
   "execution_count": 31,
   "id": "6f12f0c0-f075-451d-90da-2e86c8a4f70e",
   "metadata": {},
   "outputs": [
    {
     "data": {
      "text/plain": [
       "<Figure size 432x432 with 0 Axes>"
      ]
     },
     "metadata": {},
     "output_type": "display_data"
    },
    {
     "data": {
      "image/png": "[encoded data removed]",
      "text/plain": [
       "<Figure size 360x360 with 1 Axes>"
      ]
     },
     "metadata": {
      "needs_background": "light"
     },
     "output_type": "display_data"
    }
   ],
   "source": [
    "plt.figure(figsize=(6,6))\n",
    "sns.displot(data=lnd, kde=True)\n",
    "plt.show()"
   ]
  },
  {
   "cell_type": "code",
   "execution_count": 32,
   "id": "bd0c8dbd-5504-4f73-9450-a72516026a94",
   "metadata": {},
   "outputs": [
    {
     "data": {
      "text/plain": [
       "<Figure size 432x432 with 0 Axes>"
      ]
     },
     "metadata": {},
     "output_type": "display_data"
    },
    {
     "data": {
      "image/png": "[encoded data removed]",
      "text/plain": [
       "<Figure size 360x360 with 1 Axes>"
      ]
     },
     "metadata": {
      "needs_background": "light"
     },
     "output_type": "display_data"
    }
   ],
   "source": [
    "# IF we want to convert log normal distribution into normal distribution then apply log()\n",
    "\n",
    "plt.figure(figsize=(6,6))\n",
    "sns.displot(data=np.log(lnd), kde=True)\n",
    "plt.show()"
   ]
  },
  {
   "cell_type": "markdown",
   "id": "057cd8fe-daac-4849-91a2-49e876222724",
   "metadata": {},
   "source": [
    "## Check whether Disstribution is Normal Distribution or not"
   ]
  },
  {
   "cell_type": "code",
   "execution_count": 33,
   "id": "a96ec7dd-4d0f-4ae1-9590-a5ed29e92a9d",
   "metadata": {},
   "outputs": [],
   "source": [
    "#### If you want to check whether feature is guassian or normal distributed\n",
    "\n",
    "#### Q-Q plot\n",
    "\n",
    "# IF the data lie on the line then it will be normal distribution\n",
    "\n",
    "def QQplot(sample):\n",
    "    plt.figure(figsize=(15,8))\n",
    "    plt.subplot(1,2,1)\n",
    "    sns.histplot(data=sample, kde=True)\n",
    "    plt.subplot(1,2,2)\n",
    "    stats.probplot(x=sample, dist=\"norm\", plot=pylab)\n",
    "    plt.show()"
   ]
  },
  {
   "cell_type": "code",
   "execution_count": 34,
   "id": "4cbd97b1-9d06-4267-8d6b-342c5d590340",
   "metadata": {},
   "outputs": [
    {
     "data": {
      "image/png": "[encoded data removed]",
      "text/plain": [
       "<Figure size 1080x576 with 2 Axes>"
      ]
     },
     "metadata": {
      "needs_background": "light"
     },
     "output_type": "display_data"
    }
   ],
   "source": [
    "QQplot(sample=normal_data)"
   ]
  },
  {
   "cell_type": "code",
   "execution_count": 35,
   "id": "24ad0535-8c94-4868-a678-30f3e0933a28",
   "metadata": {},
   "outputs": [
    {
     "data": {
      "image/png": "[encoded data removed]",
      "text/plain": [
       "<Figure size 1080x576 with 2 Axes>"
      ]
     },
     "metadata": {
      "needs_background": "light"
     },
     "output_type": "display_data"
    }
   ],
   "source": [
    "QQplot(sample=df['sepal_length'])"
   ]
  },
  {
   "cell_type": "markdown",
   "id": "ac6b8e87-a937-4e56-aa44-b8218fbab09c",
   "metadata": {},
   "source": [
    "## Pearson and Sperman Rank Correlation"
   ]
  },
  {
   "cell_type": "code",
   "execution_count": 36,
   "id": "8bc77c0f-5079-4c5c-827e-75b52c276877",
   "metadata": {},
   "outputs": [
    {
     "data": {
      "text/html": [
       "<div>\n",
       "<style scoped>\n",
       "    .dataframe tbody tr th:only-of-type {\n",
       "        vertical-align: middle;\n",
       "    }\n",
       "\n",
       "    .dataframe tbody tr th {\n",
       "        vertical-align: top;\n",
       "    }\n",
       "\n",
       "    .dataframe thead th {\n",
       "        text-align: right;\n",
       "    }\n",
       "</style>\n",
       "<table border=\"1\" class=\"dataframe\">\n",
       "  <thead>\n",
       "    <tr style=\"text-align: right;\">\n",
       "      <th></th>\n",
       "      <th>total_bill</th>\n",
       "      <th>tip</th>\n",
       "      <th>sex</th>\n",
       "      <th>smoker</th>\n",
       "      <th>day</th>\n",
       "      <th>time</th>\n",
       "      <th>size</th>\n",
       "    </tr>\n",
       "  </thead>\n",
       "  <tbody>\n",
       "    <tr>\n",
       "      <th>0</th>\n",
       "      <td>16.99</td>\n",
       "      <td>1.01</td>\n",
       "      <td>Female</td>\n",
       "      <td>No</td>\n",
       "      <td>Sun</td>\n",
       "      <td>Dinner</td>\n",
       "      <td>2</td>\n",
       "    </tr>\n",
       "    <tr>\n",
       "      <th>1</th>\n",
       "      <td>10.34</td>\n",
       "      <td>1.66</td>\n",
       "      <td>Male</td>\n",
       "      <td>No</td>\n",
       "      <td>Sun</td>\n",
       "      <td>Dinner</td>\n",
       "      <td>3</td>\n",
       "    </tr>\n",
       "    <tr>\n",
       "      <th>2</th>\n",
       "      <td>21.01</td>\n",
       "      <td>3.50</td>\n",
       "      <td>Male</td>\n",
       "      <td>No</td>\n",
       "      <td>Sun</td>\n",
       "      <td>Dinner</td>\n",
       "      <td>3</td>\n",
       "    </tr>\n",
       "    <tr>\n",
       "      <th>3</th>\n",
       "      <td>23.68</td>\n",
       "      <td>3.31</td>\n",
       "      <td>Male</td>\n",
       "      <td>No</td>\n",
       "      <td>Sun</td>\n",
       "      <td>Dinner</td>\n",
       "      <td>2</td>\n",
       "    </tr>\n",
       "    <tr>\n",
       "      <th>4</th>\n",
       "      <td>24.59</td>\n",
       "      <td>3.61</td>\n",
       "      <td>Female</td>\n",
       "      <td>No</td>\n",
       "      <td>Sun</td>\n",
       "      <td>Dinner</td>\n",
       "      <td>4</td>\n",
       "    </tr>\n",
       "  </tbody>\n",
       "</table>\n",
       "</div>"
      ],
      "text/plain": [
       "   total_bill   tip     sex smoker  day    time  size\n",
       "0       16.99  1.01  Female     No  Sun  Dinner     2\n",
       "1       10.34  1.66    Male     No  Sun  Dinner     3\n",
       "2       21.01  3.50    Male     No  Sun  Dinner     3\n",
       "3       23.68  3.31    Male     No  Sun  Dinner     2\n",
       "4       24.59  3.61  Female     No  Sun  Dinner     4"
      ]
     },
     "execution_count": 36,
     "metadata": {},
     "output_type": "execute_result"
    }
   ],
   "source": [
    "df2 = sns.load_dataset('tips')\n",
    "df2.head()"
   ]
  },
  {
   "cell_type": "code",
   "execution_count": 37,
   "id": "ac7eabc5-3971-44e9-a544-76170174c6c1",
   "metadata": {},
   "outputs": [
    {
     "data": {
      "text/html": [
       "<div>\n",
       "<style scoped>\n",
       "    .dataframe tbody tr th:only-of-type {\n",
       "        vertical-align: middle;\n",
       "    }\n",
       "\n",
       "    .dataframe tbody tr th {\n",
       "        vertical-align: top;\n",
       "    }\n",
       "\n",
       "    .dataframe thead th {\n",
       "        text-align: right;\n",
       "    }\n",
       "</style>\n",
       "<table border=\"1\" class=\"dataframe\">\n",
       "  <thead>\n",
       "    <tr style=\"text-align: right;\">\n",
       "      <th></th>\n",
       "      <th>total_bill</th>\n",
       "      <th>tip</th>\n",
       "      <th>size</th>\n",
       "    </tr>\n",
       "  </thead>\n",
       "  <tbody>\n",
       "    <tr>\n",
       "      <th>total_bill</th>\n",
       "      <td>1.000000</td>\n",
       "      <td>0.675734</td>\n",
       "      <td>0.598315</td>\n",
       "    </tr>\n",
       "    <tr>\n",
       "      <th>tip</th>\n",
       "      <td>0.675734</td>\n",
       "      <td>1.000000</td>\n",
       "      <td>0.489299</td>\n",
       "    </tr>\n",
       "    <tr>\n",
       "      <th>size</th>\n",
       "      <td>0.598315</td>\n",
       "      <td>0.489299</td>\n",
       "      <td>1.000000</td>\n",
       "    </tr>\n",
       "  </tbody>\n",
       "</table>\n",
       "</div>"
      ],
      "text/plain": [
       "            total_bill       tip      size\n",
       "total_bill    1.000000  0.675734  0.598315\n",
       "tip           0.675734  1.000000  0.489299\n",
       "size          0.598315  0.489299  1.000000"
      ]
     },
     "execution_count": 37,
     "metadata": {},
     "output_type": "execute_result"
    }
   ],
   "source": [
    "df2.corr()"
   ]
  },
  {
   "cell_type": "code",
   "execution_count": 38,
   "id": "671210d1-5352-488c-b4f8-1a3ca6c5cb33",
   "metadata": {},
   "outputs": [
    {
     "data": {
      "image/png": "[encoded data removed]",
      "text/plain": [
       "<Figure size 540x540 with 12 Axes>"
      ]
     },
     "metadata": {
      "needs_background": "light"
     },
     "output_type": "display_data"
    }
   ],
   "source": [
    "sns.pairplot(data=df2)\n",
    "plt.show()"
   ]
  },
  {
   "cell_type": "code",
   "execution_count": null,
   "id": "e749c657-d0af-4aca-8b4b-02567e6b7223",
   "metadata": {},
   "outputs": [],
   "source": []
  }
 ],
 "metadata": {
  "kernelspec": {
   "display_name": "Python 3 (ipykernel)",
   "language": "python",
   "name": "python3"
  },
  "language_info": {
   "codemirror_mode": {
    "name": "ipython",
    "version": 3
   },
   "file_extension": ".py",
   "mimetype": "text/x-python",
   "name": "python",
   "nbconvert_exporter": "python",
   "pygments_lexer": "ipython3",
   "version": "3.10.7"
  }
 },
 "nbformat": 4,
 "nbformat_minor": 5
}
